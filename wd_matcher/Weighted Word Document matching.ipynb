{
 "cells": [
  {
   "cell_type": "code",
   "execution_count": 136,
   "metadata": {
    "collapsed": true
   },
   "outputs": [],
   "source": [
    "import pandas as pd\n",
    "import numpy as np\n",
    "import matplotlib.pyplot as plt\n",
    "from sklearn.cross_validation import train_test_split\n",
    "from sklearn import linear_model\n",
    "%matplotlib inline"
   ]
  },
  {
   "cell_type": "markdown",
   "metadata": {},
   "source": [
    "# Load dataset"
   ]
  },
  {
   "cell_type": "code",
   "execution_count": 137,
   "metadata": {
    "collapsed": false
   },
   "outputs": [
    {
     "name": "stdout",
     "output_type": "stream",
     "text": [
      "Index(['contributor.name', 'contributor.role', 'country_of_publication',\n",
      "       'idno', 'idno.type', 'language', 'primary_author', 'publication_type',\n",
      "       'publisher.place_of_publication', 'publisher.publisher_name',\n",
      "       'publishing_work_items.type', 'publishing_work_items.unit',\n",
      "       'publishing_work_items.value', 'subject', 'title'],\n",
      "      dtype='object')\n"
     ]
    },
    {
     "data": {
      "text/html": [
       "<div>\n",
       "<table border=\"1\" class=\"dataframe\">\n",
       "  <thead>\n",
       "    <tr style=\"text-align: right;\">\n",
       "      <th></th>\n",
       "      <th>publisher.publisher_name</th>\n",
       "      <th>publisher.place_of_publication</th>\n",
       "      <th>publication_type</th>\n",
       "      <th>country_of_publication</th>\n",
       "      <th>language</th>\n",
       "      <th>contributor.name</th>\n",
       "      <th>contributor.role</th>\n",
       "      <th>title</th>\n",
       "      <th>idno</th>\n",
       "      <th>idno.type</th>\n",
       "      <th>subject</th>\n",
       "      <th>publishing_work_items.value</th>\n",
       "      <th>publishing_work_items.type</th>\n",
       "      <th>publishing_work_items.unit</th>\n",
       "      <th>primary_author</th>\n",
       "      <th>label</th>\n",
       "    </tr>\n",
       "  </thead>\n",
       "  <tbody>\n",
       "    <tr>\n",
       "      <th>0</th>\n",
       "      <td>100</td>\n",
       "      <td>100</td>\n",
       "      <td>0</td>\n",
       "      <td>100</td>\n",
       "      <td>0</td>\n",
       "      <td>0</td>\n",
       "      <td>0</td>\n",
       "      <td>100</td>\n",
       "      <td>67</td>\n",
       "      <td>0</td>\n",
       "      <td>0</td>\n",
       "      <td>0</td>\n",
       "      <td>0</td>\n",
       "      <td>0</td>\n",
       "      <td>0</td>\n",
       "      <td>0</td>\n",
       "    </tr>\n",
       "    <tr>\n",
       "      <th>1</th>\n",
       "      <td>100</td>\n",
       "      <td>100</td>\n",
       "      <td>0</td>\n",
       "      <td>100</td>\n",
       "      <td>0</td>\n",
       "      <td>0</td>\n",
       "      <td>0</td>\n",
       "      <td>100</td>\n",
       "      <td>67</td>\n",
       "      <td>0</td>\n",
       "      <td>0</td>\n",
       "      <td>0</td>\n",
       "      <td>0</td>\n",
       "      <td>0</td>\n",
       "      <td>0</td>\n",
       "      <td>0</td>\n",
       "    </tr>\n",
       "    <tr>\n",
       "      <th>2</th>\n",
       "      <td>37</td>\n",
       "      <td>35</td>\n",
       "      <td>100</td>\n",
       "      <td>100</td>\n",
       "      <td>0</td>\n",
       "      <td>0</td>\n",
       "      <td>0</td>\n",
       "      <td>100</td>\n",
       "      <td>40</td>\n",
       "      <td>0</td>\n",
       "      <td>0</td>\n",
       "      <td>0</td>\n",
       "      <td>100</td>\n",
       "      <td>100</td>\n",
       "      <td>0</td>\n",
       "      <td>0</td>\n",
       "    </tr>\n",
       "    <tr>\n",
       "      <th>3</th>\n",
       "      <td>33</td>\n",
       "      <td>31</td>\n",
       "      <td>100</td>\n",
       "      <td>0</td>\n",
       "      <td>0</td>\n",
       "      <td>33</td>\n",
       "      <td>100</td>\n",
       "      <td>100</td>\n",
       "      <td>30</td>\n",
       "      <td>0</td>\n",
       "      <td>0</td>\n",
       "      <td>0</td>\n",
       "      <td>100</td>\n",
       "      <td>100</td>\n",
       "      <td>16</td>\n",
       "      <td>0</td>\n",
       "    </tr>\n",
       "    <tr>\n",
       "      <th>4</th>\n",
       "      <td>100</td>\n",
       "      <td>42</td>\n",
       "      <td>100</td>\n",
       "      <td>0</td>\n",
       "      <td>0</td>\n",
       "      <td>0</td>\n",
       "      <td>0</td>\n",
       "      <td>100</td>\n",
       "      <td>61</td>\n",
       "      <td>0</td>\n",
       "      <td>0</td>\n",
       "      <td>0</td>\n",
       "      <td>0</td>\n",
       "      <td>0</td>\n",
       "      <td>0</td>\n",
       "      <td>0</td>\n",
       "    </tr>\n",
       "  </tbody>\n",
       "</table>\n",
       "</div>"
      ],
      "text/plain": [
       "   publisher.publisher_name  publisher.place_of_publication  publication_type  \\\n",
       "0                       100                             100                 0   \n",
       "1                       100                             100                 0   \n",
       "2                        37                              35               100   \n",
       "3                        33                              31               100   \n",
       "4                       100                              42               100   \n",
       "\n",
       "   country_of_publication  language  contributor.name  contributor.role  \\\n",
       "0                     100         0                 0                 0   \n",
       "1                     100         0                 0                 0   \n",
       "2                     100         0                 0                 0   \n",
       "3                       0         0                33               100   \n",
       "4                       0         0                 0                 0   \n",
       "\n",
       "   title  idno  idno.type  subject  publishing_work_items.value  \\\n",
       "0    100    67          0        0                            0   \n",
       "1    100    67          0        0                            0   \n",
       "2    100    40          0        0                            0   \n",
       "3    100    30          0        0                            0   \n",
       "4    100    61          0        0                            0   \n",
       "\n",
       "   publishing_work_items.type  publishing_work_items.unit  primary_author  \\\n",
       "0                           0                           0               0   \n",
       "1                           0                           0               0   \n",
       "2                         100                         100               0   \n",
       "3                         100                         100              16   \n",
       "4                           0                           0               0   \n",
       "\n",
       "   label  \n",
       "0      0  \n",
       "1      0  \n",
       "2      0  \n",
       "3      0  \n",
       "4      0  "
      ]
     },
     "execution_count": 137,
     "metadata": {},
     "output_type": "execute_result"
    }
   ],
   "source": [
    "dataset = pd.read_csv('dataset/dev1_works_distance_dataset.csv')\n",
    "y = dataset['label'].values\n",
    "features = dataset.columns.difference(['label'])\n",
    "#features = ['title', 'primary_author', 'publisher.publisher_name']\n",
    "print(features)\n",
    "X = dataset[features].values\n",
    "dataset.head()"
   ]
  },
  {
   "cell_type": "markdown",
   "metadata": {},
   "source": [
    "## Split dataset by label (match|not_match) for visualisation"
   ]
  },
  {
   "cell_type": "code",
   "execution_count": 138,
   "metadata": {
    "collapsed": false
   },
   "outputs": [],
   "source": [
    "dataset_matched = dataset[dataset['label']==1]\n",
    "dataset_not_matched = dataset[dataset['label']==0]"
   ]
  },
  {
   "cell_type": "code",
   "execution_count": 139,
   "metadata": {
    "collapsed": false
   },
   "outputs": [
    {
     "name": "stdout",
     "output_type": "stream",
     "text": [
      "589.078072305\n",
      "550.099324124\n"
     ]
    }
   ],
   "source": [
    "print(sum(dataset_matched[features].mean()))\n",
    "print(sum(dataset_not_matched[features].mean()))"
   ]
  },
  {
   "cell_type": "code",
   "execution_count": 140,
   "metadata": {
    "collapsed": false
   },
   "outputs": [],
   "source": [
    "def broken_plot(dataset, column, axis0_limits, axis1_limits, num_bins):\n",
    "    f, axis = plt.subplots(2, 1, sharex=True)\n",
    "    axis[0].hist(dataset[[column]].values, num_bins, alpha=0.5)\n",
    "    axis[1].hist(dataset[[column]].values, num_bins, alpha=0.5)\n",
    "    axis[0].set_ylim(axis0_limits[0], axis0_limits[1])\n",
    "    axis[1].set_ylim(axis1_limits[0], axis1_limits[1])\n",
    "\n",
    "    axis[0].spines['bottom'].set_visible(False)\n",
    "    axis[1].spines['top'].set_visible(False)\n",
    "    axis[0].xaxis.tick_top()\n",
    "    axis[0].tick_params(labeltop='off')\n",
    "    axis[1].xaxis.tick_bottom()\n",
    "    d = .015\n",
    "    kwargs = dict(transform=axis[0].transAxes, color='k', clip_on=False)\n",
    "    axis[0].plot((-d,+d),(-d,+d), **kwargs)\n",
    "    axis[0].plot((1-d,1+d),(-d,+d), **kwargs)\n",
    "    kwargs.update(transform=axis[1].transAxes)\n",
    "    axis[1].plot((-d,+d),(1-d,1+d), **kwargs)\n",
    "    axis[1].plot((1-d,1+d),(1-d,1+d), **kwargs)"
   ]
  },
  {
   "cell_type": "code",
   "execution_count": 141,
   "metadata": {
    "collapsed": false
   },
   "outputs": [
    {
     "data": {
      "image/png": "[encoded data removed]",
      "text/plain": [
       "<matplotlib.figure.Figure at 0x71802064a8>"
      ]
     },
     "metadata": {},
     "output_type": "display_data"
    }
   ],
   "source": [
    "broken_plot(dataset, 'title', (20, 100), (0, 10), 20)"
   ]
  },
  {
   "cell_type": "code",
   "execution_count": 142,
   "metadata": {
    "collapsed": false
   },
   "outputs": [
    {
     "data": {
      "image/png": "[encoded data removed]",
      "text/plain": [
       "<matplotlib.figure.Figure at 0x7182b80f28>"
      ]
     },
     "metadata": {},
     "output_type": "display_data"
    }
   ],
   "source": [
    "broken_plot(dataset_matched, 'title', (20, 1500), (0, 30), 20)"
   ]
  },
  {
   "cell_type": "code",
   "execution_count": 143,
   "metadata": {
    "collapsed": false
   },
   "outputs": [
    {
     "data": {
      "image/png": "[encoded data removed]",
      "text/plain": [
       "<matplotlib.figure.Figure at 0x7180363b70>"
      ]
     },
     "metadata": {},
     "output_type": "display_data"
    }
   ],
   "source": [
    "broken_plot(dataset_not_matched, 'title', (20, 1500), (0, 30), 20)"
   ]
  },
  {
   "cell_type": "code",
   "execution_count": 144,
   "metadata": {
    "collapsed": false
   },
   "outputs": [
    {
     "data": {
      "image/png": "[encoded data removed]",
      "text/plain": [
       "<matplotlib.figure.Figure at 0x7180224358>"
      ]
     },
     "metadata": {},
     "output_type": "display_data"
    }
   ],
   "source": [
    "broken_plot(dataset_matched, 'idno', (20, 250), (0, 10), 20)"
   ]
  },
  {
   "cell_type": "code",
   "execution_count": 145,
   "metadata": {
    "collapsed": false
   },
   "outputs": [
    {
     "data": {
      "image/png": "[encoded data removed]",
      "text/plain": [
       "<matplotlib.figure.Figure at 0x7180203400>"
      ]
     },
     "metadata": {},
     "output_type": "display_data"
    }
   ],
   "source": [
    "broken_plot(dataset_not_matched, 'idno', (20, 10000), (0, 10), 20)"
   ]
  },
  {
   "cell_type": "code",
   "execution_count": 146,
   "metadata": {
    "collapsed": false
   },
   "outputs": [
    {
     "data": {
      "image/png": "[encoded data removed]",
      "text/plain": [
       "<matplotlib.figure.Figure at 0x71803535f8>"
      ]
     },
     "metadata": {},
     "output_type": "display_data"
    }
   ],
   "source": [
    "broken_plot(dataset_matched, 'subject', (100, 2000), (0, 60), 20)"
   ]
  },
  {
   "cell_type": "code",
   "execution_count": 147,
   "metadata": {
    "collapsed": false
   },
   "outputs": [
    {
     "data": {
      "image/png": "[encoded data removed]",
      "text/plain": [
       "<matplotlib.figure.Figure at 0x71803194a8>"
      ]
     },
     "metadata": {},
     "output_type": "display_data"
    }
   ],
   "source": [
    "broken_plot(dataset_not_matched, 'subject', (20, 30000), (0, 20), 20)"
   ]
  },
  {
   "cell_type": "markdown",
   "metadata": {},
   "source": [
    "# Applying classification"
   ]
  },
  {
   "cell_type": "markdown",
   "metadata": {},
   "source": [
    "## Splitting dataset to train and test"
   ]
  },
  {
   "cell_type": "code",
   "execution_count": 148,
   "metadata": {
    "collapsed": false
   },
   "outputs": [],
   "source": [
    "from sklearn.cross_validation import StratifiedShuffleSplit"
   ]
  },
  {
   "cell_type": "code",
   "execution_count": 149,
   "metadata": {
    "collapsed": false
   },
   "outputs": [
    {
     "data": {
      "text/plain": [
       "array([0, 0, 0, ..., 1, 1, 1], dtype=int64)"
      ]
     },
     "execution_count": 149,
     "metadata": {},
     "output_type": "execute_result"
    }
   ],
   "source": [
    "y"
   ]
  },
  {
   "cell_type": "code",
   "execution_count": 150,
   "metadata": {
    "collapsed": false
   },
   "outputs": [
    {
     "name": "stdout",
     "output_type": "stream",
     "text": [
      "1130\n",
      "41939\n"
     ]
    }
   ],
   "source": [
    "sss_cv = StratifiedShuffleSplit(y, 1, test_size=0.2, random_state=0)\n",
    "for cv_index, test_index in sss_cv:\n",
    "    cv_data, test_data = X[cv_index], X[test_index]\n",
    "    cv_output, test_output = y[cv_index], y[test_index]\n",
    "print(len([x for x in cv_output if x == 1]))\n",
    "print(len(cv_output))\n",
    "sss = StratifiedShuffleSplit(cv_output, 1, test_size=0.4, random_state=0)    \n",
    "for train_index, val_index in sss:\n",
    "    train_data, validation_data = cv_data[train_index], cv_data[val_index]\n",
    "    train_output, validation_output = cv_output[train_index], cv_output[val_index]"
   ]
  },
  {
   "cell_type": "code",
   "execution_count": 151,
   "metadata": {
    "collapsed": false
   },
   "outputs": [
    {
     "data": {
      "text/plain": [
       "LogisticRegression(C=1.0, class_weight=None, dual=False, fit_intercept=True,\n",
       "          intercept_scaling=1, max_iter=100, multi_class='ovr', n_jobs=-1,\n",
       "          penalty='l2', random_state=None, solver='liblinear', tol=0.0001,\n",
       "          verbose=0, warm_start=False)"
      ]
     },
     "execution_count": 151,
     "metadata": {},
     "output_type": "execute_result"
    }
   ],
   "source": [
    "model = linear_model.LogisticRegression(n_jobs=-1)\n",
    "model.fit(train_data, train_output)"
   ]
  },
  {
   "cell_type": "code",
   "execution_count": 152,
   "metadata": {
    "collapsed": false
   },
   "outputs": [],
   "source": [
    "model_features = pd.DataFrame(np.zeros((len(features), 2)), columns=['features', 'coeff'])\n",
    "model_features['features'] = features\n",
    "model_features['coeff'] = model.coef_[0]"
   ]
  },
  {
   "cell_type": "code",
   "execution_count": 153,
   "metadata": {
    "collapsed": false
   },
   "outputs": [
    {
     "data": {
      "text/plain": [
       "0.97019551740581789"
      ]
     },
     "execution_count": 153,
     "metadata": {},
     "output_type": "execute_result"
    }
   ],
   "source": [
    "model.score(validation_data, validation_output)"
   ]
  },
  {
   "cell_type": "code",
   "execution_count": 154,
   "metadata": {
    "collapsed": false
   },
   "outputs": [
    {
     "data": {
      "text/plain": [
       "0.50283203188529624"
      ]
     },
     "execution_count": 154,
     "metadata": {},
     "output_type": "execute_result"
    }
   ],
   "source": [
    "from sklearn import metrics\n",
    "#predictions = model.predict(validation_data)\n",
    "predictions = model.predict(validation_data)\n",
    "fpr, tpr, thresholds = metrics.roc_curve(validation_output, predictions)\n",
    "metrics.auc(fpr, tpr)"
   ]
  },
  {
   "cell_type": "code",
   "execution_count": 155,
   "metadata": {
    "collapsed": false
   },
   "outputs": [
    {
     "data": {
      "text/plain": [
       "0.071428571428571425"
      ]
     },
     "execution_count": 155,
     "metadata": {},
     "output_type": "execute_result"
    }
   ],
   "source": [
    "metrics.precision_score(validation_output, predictions)"
   ]
  },
  {
   "cell_type": "code",
   "execution_count": 156,
   "metadata": {
    "collapsed": false
   },
   "outputs": [
    {
     "name": "stdout",
     "output_type": "stream",
     "text": [
      "true_positive: 4\n",
      "true_negative: 16272\n",
      "false_positive: 52\n",
      "false_negative: 448\n"
     ]
    }
   ],
   "source": [
    "true_positive = 0\n",
    "true_negative = 0\n",
    "false_positive = 0\n",
    "false_negative = 0\n",
    "for y, y_hat in zip(validation_output, predictions):\n",
    "    if y == y_hat:\n",
    "        if y_hat == 1:\n",
    "            true_positive += 1\n",
    "        else:\n",
    "            true_negative += 1\n",
    "    else:\n",
    "        if y_hat == 1:\n",
    "            false_positive += 1\n",
    "        else:\n",
    "            false_negative += 1\n",
    "print('true_positive: %s' % true_positive)\n",
    "print('true_negative: %s' % true_negative)\n",
    "print('false_positive: %s' % false_positive)\n",
    "print('false_negative: %s' % false_negative)"
   ]
  },
  {
   "cell_type": "code",
   "execution_count": null,
   "metadata": {
    "collapsed": true
   },
   "outputs": [],
   "source": []
  },
  {
   "cell_type": "code",
   "execution_count": null,
   "metadata": {
    "collapsed": true
   },
   "outputs": [],
   "source": []
  }
 ],
 "metadata": {
  "kernelspec": {
   "display_name": "Python 3",
   "language": "python",
   "name": "python3"
  },
  "language_info": {
   "codemirror_mode": {
    "name": "ipython",
    "version": 3
   },
   "file_extension": ".py",
   "mimetype": "text/x-python",
   "name": "python",
   "nbconvert_exporter": "python",
   "pygments_lexer": "ipython3",
   "version": "3.5.1"
  }
 },
 "nbformat": 4,
 "nbformat_minor": 0
}
