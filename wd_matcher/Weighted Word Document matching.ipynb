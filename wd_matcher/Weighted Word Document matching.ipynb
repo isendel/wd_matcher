{
 "cells": [
  {
   "cell_type": "code",
   "execution_count": 1,
   "metadata": {
    "collapsed": true
   },
   "outputs": [],
   "source": [
    "import pandas as pd\n",
    "import numpy as np\n",
    "import matplotlib.pyplot as plt\n",
    "from sklearn.cross_validation import train_test_split\n",
    "from sklearn import linear_model\n",
    "%matplotlib inline"
   ]
  },
  {
   "cell_type": "markdown",
   "metadata": {},
   "source": [
    "# Load dataset"
   ]
  },
  {
   "cell_type": "code",
   "execution_count": 2,
   "metadata": {
    "collapsed": false
   },
   "outputs": [
    {
     "name": "stdout",
     "output_type": "stream",
     "text": [
      "Index(['work▪contributor▪contributorName', 'work▪dataSource▪sourceCode',\n",
      "       'work▪dataSource▪sourcePrimaryKey',\n",
      "       'work▪extent▪extentValue#3|work▪extent▪extentType',\n",
      "       'work▪idno▪idno#CANINVALISBN13|work▪idno▪type',\n",
      "       'work▪idno▪idno#CANINVALLCCN|work▪idno▪type',\n",
      "       'work▪idno▪idno#CANISSN|work▪idno▪type',\n",
      "       'work▪idno▪idno#DOI|work▪idno▪type',\n",
      "       'work▪idno▪idno#INCORRISSN|work▪idno▪type',\n",
      "       'work▪idno▪idno#OCLCNUM|work▪idno▪type',\n",
      "       'work▪idno▪idno#PMID|work▪idno▪type',\n",
      "       'work▪idno▪idno#VALISBN13|work▪idno▪type',\n",
      "       'work▪idno▪idno#VALISSN|work▪idno▪type',\n",
      "       'work▪idno▪idno#VALLCCN|work▪idno▪type', 'work▪itemAttributes▪issue',\n",
      "       'work▪itemAttributes▪startPage', 'work▪itemAttributes▪volume',\n",
      "       'work▪publicationCountry▪country',\n",
      "       'work▪publisher▪name#8|work▪publisher▪role',\n",
      "       'work▪relationship▪idno▪idno#HOSTITEM|work▪relationship▪type#VALISBN|work▪relationship▪idno▪type',\n",
      "       'work▪relationship▪idno▪idno#HOSTITEM|work▪relationship▪type#VALISSN|work▪relationship▪idno▪type',\n",
      "       'work▪splitInst', 'work▪workDates▪date', 'work▪workDates▪startDate',\n",
      "       'work▪workTitle▪title#HASCOMMONTITLE|work▪workTitle▪type',\n",
      "       'work▪workTitle▪title#MAIN|work▪workTitle▪type'],\n",
      "      dtype='object')\n"
     ]
    },
    {
     "data": {
      "text/html": [
       "<div>\n",
       "<table border=\"1\" class=\"dataframe\">\n",
       "  <thead>\n",
       "    <tr style=\"text-align: right;\">\n",
       "      <th></th>\n",
       "      <th>work▪idno▪idno#PMID|work▪idno▪type</th>\n",
       "      <th>work▪idno▪idno#CANISSN|work▪idno▪type</th>\n",
       "      <th>work▪itemAttributes▪volume</th>\n",
       "      <th>work▪workDates▪startDate</th>\n",
       "      <th>work▪publisher▪name#8|work▪publisher▪role</th>\n",
       "      <th>work▪idno▪idno#VALISBN13|work▪idno▪type</th>\n",
       "      <th>work▪publicationCountry▪country</th>\n",
       "      <th>work▪idno▪idno#CANINVALISBN13|work▪idno▪type</th>\n",
       "      <th>work▪workTitle▪title#HASCOMMONTITLE|work▪workTitle▪type</th>\n",
       "      <th>work▪itemAttributes▪startPage</th>\n",
       "      <th>...</th>\n",
       "      <th>work▪workDates▪date</th>\n",
       "      <th>work▪idno▪idno#VALLCCN|work▪idno▪type</th>\n",
       "      <th>work▪relationship▪idno▪idno#HOSTITEM|work▪relationship▪type#VALISSN|work▪relationship▪idno▪type</th>\n",
       "      <th>label</th>\n",
       "      <th>work▪itemAttributes▪issue</th>\n",
       "      <th>work▪idno▪idno#VALISSN|work▪idno▪type</th>\n",
       "      <th>work▪dataSource▪sourcePrimaryKey</th>\n",
       "      <th>work▪dataSource▪sourceCode</th>\n",
       "      <th>work▪idno▪idno#CANINVALLCCN|work▪idno▪type</th>\n",
       "      <th>work▪relationship▪idno▪idno#HOSTITEM|work▪relationship▪type#VALISBN|work▪relationship▪idno▪type</th>\n",
       "    </tr>\n",
       "  </thead>\n",
       "  <tbody>\n",
       "    <tr>\n",
       "      <th>0</th>\n",
       "      <td>0</td>\n",
       "      <td>0</td>\n",
       "      <td>0</td>\n",
       "      <td>0</td>\n",
       "      <td>31</td>\n",
       "      <td>0</td>\n",
       "      <td>100</td>\n",
       "      <td>0</td>\n",
       "      <td>100</td>\n",
       "      <td>0</td>\n",
       "      <td>...</td>\n",
       "      <td>100</td>\n",
       "      <td>0</td>\n",
       "      <td>0</td>\n",
       "      <td>0</td>\n",
       "      <td>0</td>\n",
       "      <td>0</td>\n",
       "      <td>0</td>\n",
       "      <td>0</td>\n",
       "      <td>0</td>\n",
       "      <td>0</td>\n",
       "    </tr>\n",
       "    <tr>\n",
       "      <th>1</th>\n",
       "      <td>0</td>\n",
       "      <td>0</td>\n",
       "      <td>0</td>\n",
       "      <td>0</td>\n",
       "      <td>31</td>\n",
       "      <td>0</td>\n",
       "      <td>100</td>\n",
       "      <td>0</td>\n",
       "      <td>100</td>\n",
       "      <td>0</td>\n",
       "      <td>...</td>\n",
       "      <td>100</td>\n",
       "      <td>0</td>\n",
       "      <td>0</td>\n",
       "      <td>0</td>\n",
       "      <td>0</td>\n",
       "      <td>0</td>\n",
       "      <td>0</td>\n",
       "      <td>0</td>\n",
       "      <td>0</td>\n",
       "      <td>0</td>\n",
       "    </tr>\n",
       "    <tr>\n",
       "      <th>2</th>\n",
       "      <td>0</td>\n",
       "      <td>0</td>\n",
       "      <td>0</td>\n",
       "      <td>100</td>\n",
       "      <td>100</td>\n",
       "      <td>0</td>\n",
       "      <td>100</td>\n",
       "      <td>0</td>\n",
       "      <td>100</td>\n",
       "      <td>0</td>\n",
       "      <td>...</td>\n",
       "      <td>0</td>\n",
       "      <td>0</td>\n",
       "      <td>0</td>\n",
       "      <td>0</td>\n",
       "      <td>0</td>\n",
       "      <td>0</td>\n",
       "      <td>0</td>\n",
       "      <td>0</td>\n",
       "      <td>0</td>\n",
       "      <td>0</td>\n",
       "    </tr>\n",
       "    <tr>\n",
       "      <th>3</th>\n",
       "      <td>0</td>\n",
       "      <td>0</td>\n",
       "      <td>0</td>\n",
       "      <td>100</td>\n",
       "      <td>100</td>\n",
       "      <td>0</td>\n",
       "      <td>0</td>\n",
       "      <td>0</td>\n",
       "      <td>100</td>\n",
       "      <td>0</td>\n",
       "      <td>...</td>\n",
       "      <td>100</td>\n",
       "      <td>0</td>\n",
       "      <td>0</td>\n",
       "      <td>0</td>\n",
       "      <td>0</td>\n",
       "      <td>0</td>\n",
       "      <td>0</td>\n",
       "      <td>0</td>\n",
       "      <td>0</td>\n",
       "      <td>0</td>\n",
       "    </tr>\n",
       "    <tr>\n",
       "      <th>4</th>\n",
       "      <td>0</td>\n",
       "      <td>0</td>\n",
       "      <td>0</td>\n",
       "      <td>100</td>\n",
       "      <td>36</td>\n",
       "      <td>0</td>\n",
       "      <td>0</td>\n",
       "      <td>0</td>\n",
       "      <td>100</td>\n",
       "      <td>0</td>\n",
       "      <td>...</td>\n",
       "      <td>0</td>\n",
       "      <td>0</td>\n",
       "      <td>0</td>\n",
       "      <td>0</td>\n",
       "      <td>0</td>\n",
       "      <td>0</td>\n",
       "      <td>0</td>\n",
       "      <td>0</td>\n",
       "      <td>0</td>\n",
       "      <td>0</td>\n",
       "    </tr>\n",
       "  </tbody>\n",
       "</table>\n",
       "<p>5 rows × 27 columns</p>\n",
       "</div>"
      ],
      "text/plain": [
       "   work▪idno▪idno#PMID|work▪idno▪type  work▪idno▪idno#CANISSN|work▪idno▪type  \\\n",
       "0                                   0                                      0   \n",
       "1                                   0                                      0   \n",
       "2                                   0                                      0   \n",
       "3                                   0                                      0   \n",
       "4                                   0                                      0   \n",
       "\n",
       "   work▪itemAttributes▪volume  work▪workDates▪startDate  \\\n",
       "0                           0                         0   \n",
       "1                           0                         0   \n",
       "2                           0                       100   \n",
       "3                           0                       100   \n",
       "4                           0                       100   \n",
       "\n",
       "   work▪publisher▪name#8|work▪publisher▪role  \\\n",
       "0                                         31   \n",
       "1                                         31   \n",
       "2                                        100   \n",
       "3                                        100   \n",
       "4                                         36   \n",
       "\n",
       "   work▪idno▪idno#VALISBN13|work▪idno▪type  work▪publicationCountry▪country  \\\n",
       "0                                        0                              100   \n",
       "1                                        0                              100   \n",
       "2                                        0                              100   \n",
       "3                                        0                                0   \n",
       "4                                        0                                0   \n",
       "\n",
       "   work▪idno▪idno#CANINVALISBN13|work▪idno▪type  \\\n",
       "0                                             0   \n",
       "1                                             0   \n",
       "2                                             0   \n",
       "3                                             0   \n",
       "4                                             0   \n",
       "\n",
       "   work▪workTitle▪title#HASCOMMONTITLE|work▪workTitle▪type  \\\n",
       "0                                                100         \n",
       "1                                                100         \n",
       "2                                                100         \n",
       "3                                                100         \n",
       "4                                                100         \n",
       "\n",
       "   work▪itemAttributes▪startPage  \\\n",
       "0                              0   \n",
       "1                              0   \n",
       "2                              0   \n",
       "3                              0   \n",
       "4                              0   \n",
       "\n",
       "                                                ...                                                 \\\n",
       "0                                               ...                                                  \n",
       "1                                               ...                                                  \n",
       "2                                               ...                                                  \n",
       "3                                               ...                                                  \n",
       "4                                               ...                                                  \n",
       "\n",
       "   work▪workDates▪date  work▪idno▪idno#VALLCCN|work▪idno▪type  \\\n",
       "0                  100                                      0   \n",
       "1                  100                                      0   \n",
       "2                    0                                      0   \n",
       "3                  100                                      0   \n",
       "4                    0                                      0   \n",
       "\n",
       "   work▪relationship▪idno▪idno#HOSTITEM|work▪relationship▪type#VALISSN|work▪relationship▪idno▪type  \\\n",
       "0                                                  0                                                 \n",
       "1                                                  0                                                 \n",
       "2                                                  0                                                 \n",
       "3                                                  0                                                 \n",
       "4                                                  0                                                 \n",
       "\n",
       "   label  work▪itemAttributes▪issue  work▪idno▪idno#VALISSN|work▪idno▪type  \\\n",
       "0      0                          0                                      0   \n",
       "1      0                          0                                      0   \n",
       "2      0                          0                                      0   \n",
       "3      0                          0                                      0   \n",
       "4      0                          0                                      0   \n",
       "\n",
       "   work▪dataSource▪sourcePrimaryKey  work▪dataSource▪sourceCode  \\\n",
       "0                                 0                           0   \n",
       "1                                 0                           0   \n",
       "2                                 0                           0   \n",
       "3                                 0                           0   \n",
       "4                                 0                           0   \n",
       "\n",
       "   work▪idno▪idno#CANINVALLCCN|work▪idno▪type  \\\n",
       "0                                           0   \n",
       "1                                           0   \n",
       "2                                           0   \n",
       "3                                           0   \n",
       "4                                           0   \n",
       "\n",
       "   work▪relationship▪idno▪idno#HOSTITEM|work▪relationship▪type#VALISBN|work▪relationship▪idno▪type  \n",
       "0                                                  0                                                \n",
       "1                                                  0                                                \n",
       "2                                                  0                                                \n",
       "3                                                  0                                                \n",
       "4                                                  0                                                \n",
       "\n",
       "[5 rows x 27 columns]"
      ]
     },
     "execution_count": 2,
     "metadata": {},
     "output_type": "execute_result"
    }
   ],
   "source": [
    "#dataset = pd.read_csv('dataset/dev1_works_distance_dataset.csv')\n",
    "dataset = pd.read_csv('dataset/pre1_works_distance_dataset.csv')\n",
    "y = dataset['label'].values\n",
    "features = dataset.columns.difference(['label'])\n",
    "#features = ['title', 'primary_author', 'publisher.publisher_name']\n",
    "print(features)\n",
    "X = dataset[features].values\n",
    "dataset.head()"
   ]
  },
  {
   "cell_type": "markdown",
   "metadata": {},
   "source": [
    "## Split dataset by label (match|not_match) for visualisation"
   ]
  },
  {
   "cell_type": "code",
   "execution_count": 3,
   "metadata": {
    "collapsed": true
   },
   "outputs": [],
   "source": [
    "dataset_matched = dataset[dataset['label']==1]\n",
    "dataset_not_matched = dataset[dataset['label']==0]"
   ]
  },
  {
   "cell_type": "code",
   "execution_count": 4,
   "metadata": {
    "collapsed": false
   },
   "outputs": [
    {
     "name": "stdout",
     "output_type": "stream",
     "text": [
      "work▪contributor▪contributorName                                                                   72.388725\n",
      "work▪dataSource▪sourceCode                                                                         39.996730\n",
      "work▪dataSource▪sourcePrimaryKey                                                                   38.995176\n",
      "work▪extent▪extentValue#3|work▪extent▪extentType                                                    3.020399\n",
      "work▪idno▪idno#CANINVALISBN13|work▪idno▪type                                                        0.035238\n",
      "work▪idno▪idno#CANINVALLCCN|work▪idno▪type                                                          0.138991\n",
      "work▪idno▪idno#CANISSN|work▪idno▪type                                                               0.016352\n",
      "work▪idno▪idno#DOI|work▪idno▪type                                                                   0.651541\n",
      "work▪idno▪idno#INCORRISSN|work▪idno▪type                                                            0.414929\n",
      "work▪idno▪idno#OCLCNUM|work▪idno▪type                                                               0.345679\n",
      "work▪idno▪idno#PMID|work▪idno▪type                                                                  0.116834\n",
      "work▪idno▪idno#VALISBN13|work▪idno▪type                                                             6.098070\n",
      "work▪idno▪idno#VALISSN|work▪idno▪type                                                               1.663969\n",
      "work▪idno▪idno#VALLCCN|work▪idno▪type                                                               2.997384\n",
      "work▪itemAttributes▪issue                                                                           0.842000\n",
      "work▪itemAttributes▪startPage                                                                       2.608822\n",
      "work▪itemAttributes▪volume                                                                          3.464639\n",
      "work▪publicationCountry▪country                                                                    14.940602\n",
      "work▪publisher▪name#8|work▪publisher▪role                                                          37.813548\n",
      "work▪relationship▪idno▪idno#HOSTITEM|work▪relationship▪type#VALISBN|work▪relationship▪idno▪type     0.110375\n",
      "work▪relationship▪idno▪idno#HOSTITEM|work▪relationship▪type#VALISSN|work▪relationship▪idno▪type     3.322378\n",
      "work▪splitInst                                                                                      0.561688\n",
      "work▪workDates▪date                                                                                72.904914\n",
      "work▪workDates▪startDate                                                                           94.616139\n",
      "work▪workTitle▪title#HASCOMMONTITLE|work▪workTitle▪type                                            99.971384\n",
      "work▪workTitle▪title#MAIN|work▪workTitle▪type                                                      97.678031\n",
      "dtype: float64\n",
      "__________________________\n",
      "work▪contributor▪contributorName                                                                   54.220355\n",
      "work▪dataSource▪sourceCode                                                                         68.719446\n",
      "work▪dataSource▪sourcePrimaryKey                                                                    4.173669\n",
      "work▪extent▪extentValue#3|work▪extent▪extentType                                                    5.087873\n",
      "work▪idno▪idno#CANINVALISBN13|work▪idno▪type                                                        0.083667\n",
      "work▪idno▪idno#CANINVALLCCN|work▪idno▪type                                                          0.011750\n",
      "work▪idno▪idno#CANISSN|work▪idno▪type                                                               0.001599\n",
      "work▪idno▪idno#DOI|work▪idno▪type                                                                   0.186268\n",
      "work▪idno▪idno#INCORRISSN|work▪idno▪type                                                            0.048396\n",
      "work▪idno▪idno#OCLCNUM|work▪idno▪type                                                               0.206729\n",
      "work▪idno▪idno#PMID|work▪idno▪type                                                                  0.033465\n",
      "work▪idno▪idno#VALISBN13|work▪idno▪type                                                             0.847140\n",
      "work▪idno▪idno#VALISSN|work▪idno▪type                                                               0.325930\n",
      "work▪idno▪idno#VALLCCN|work▪idno▪type                                                               0.838644\n",
      "work▪itemAttributes▪issue                                                                           0.140573\n",
      "work▪itemAttributes▪startPage                                                                       0.694158\n",
      "work▪itemAttributes▪volume                                                                          0.493038\n",
      "work▪publicationCountry▪country                                                                     8.869652\n",
      "work▪publisher▪name#8|work▪publisher▪role                                                          70.987878\n",
      "work▪relationship▪idno▪idno#HOSTITEM|work▪relationship▪type#VALISBN|work▪relationship▪idno▪type     0.041320\n",
      "work▪relationship▪idno▪idno#HOSTITEM|work▪relationship▪type#VALISSN|work▪relationship▪idno▪type     0.820385\n",
      "work▪splitInst                                                                                      0.342505\n",
      "work▪workDates▪date                                                                                26.930353\n",
      "work▪workDates▪startDate                                                                           92.934398\n",
      "work▪workTitle▪title#HASCOMMONTITLE|work▪workTitle▪type                                            99.996247\n",
      "work▪workTitle▪title#MAIN|work▪workTitle▪type                                                      99.856268\n",
      "dtype: float64\n"
     ]
    }
   ],
   "source": [
    "print(dataset_matched[features].mean())\n",
    "print('__________________________')\n",
    "print(dataset_not_matched[features].mean())"
   ]
  },
  {
   "cell_type": "code",
   "execution_count": 5,
   "metadata": {
    "collapsed": false
   },
   "outputs": [
    {
     "name": "stdout",
     "output_type": "stream",
     "text": [
      "595.714536833\n",
      "536.891703676\n"
     ]
    }
   ],
   "source": [
    "print(sum(dataset_matched[features].mean()))\n",
    "print(sum(dataset_not_matched[features].mean()))"
   ]
  },
  {
   "cell_type": "code",
   "execution_count": 6,
   "metadata": {
    "collapsed": true
   },
   "outputs": [],
   "source": [
    "def broken_plot(dataset, column, axis0_limits, axis1_limits, num_bins):\n",
    "    f, axis = plt.subplots(2, 1, sharex=True)\n",
    "    axis[0].hist(dataset[[column]].values, num_bins, alpha=0.5)\n",
    "    axis[1].hist(dataset[[column]].values, num_bins, alpha=0.5)\n",
    "    axis[0].set_ylim(axis0_limits[0], axis0_limits[1])\n",
    "    axis[1].set_ylim(axis1_limits[0], axis1_limits[1])\n",
    "\n",
    "    axis[0].spines['bottom'].set_visible(False)\n",
    "    axis[1].spines['top'].set_visible(False)\n",
    "    axis[0].xaxis.tick_top()\n",
    "    axis[0].tick_params(labeltop='off')\n",
    "    axis[1].xaxis.tick_bottom()\n",
    "    d = .015\n",
    "    kwargs = dict(transform=axis[0].transAxes, color='k', clip_on=False)\n",
    "    axis[0].plot((-d,+d),(-d,+d), **kwargs)\n",
    "    axis[0].plot((1-d,1+d),(-d,+d), **kwargs)\n",
    "    kwargs.update(transform=axis[1].transAxes)\n",
    "    axis[1].plot((-d,+d),(1-d,1+d), **kwargs)\n",
    "    axis[1].plot((1-d,1+d),(1-d,1+d), **kwargs)"
   ]
  },
  {
   "cell_type": "markdown",
   "metadata": {},
   "source": [
    "# Applying classification"
   ]
  },
  {
   "cell_type": "markdown",
   "metadata": {},
   "source": [
    "## Splitting dataset to train and test"
   ]
  },
  {
   "cell_type": "code",
   "execution_count": 7,
   "metadata": {
    "collapsed": true
   },
   "outputs": [],
   "source": [
    "from sklearn.cross_validation import StratifiedShuffleSplit"
   ]
  },
  {
   "cell_type": "code",
   "execution_count": 8,
   "metadata": {
    "collapsed": false
   },
   "outputs": [
    {
     "data": {
      "text/plain": [
       "array([0, 0, 0, ..., 1, 1, 1], dtype=int64)"
      ]
     },
     "execution_count": 8,
     "metadata": {},
     "output_type": "execute_result"
    }
   ],
   "source": [
    "y"
   ]
  },
  {
   "cell_type": "code",
   "execution_count": 9,
   "metadata": {
    "collapsed": false
   },
   "outputs": [
    {
     "name": "stdout",
     "output_type": "stream",
     "text": [
      "19570\n",
      "595101\n"
     ]
    }
   ],
   "source": [
    "sss_cv = StratifiedShuffleSplit(y, 1, test_size=0.2, random_state=0)\n",
    "for cv_index, test_index in sss_cv:\n",
    "    cv_data, test_data = X[cv_index], X[test_index]\n",
    "    cv_output, test_output = y[cv_index], y[test_index]\n",
    "print(len([x for x in cv_output if x == 1]))\n",
    "print(len(cv_output))\n",
    "sss = StratifiedShuffleSplit(cv_output, 1, test_size=0.4, random_state=0)    \n",
    "for train_index, val_index in sss:\n",
    "    train_data, validation_data = cv_data[train_index], cv_data[val_index]\n",
    "    train_output, validation_output = cv_output[train_index], cv_output[val_index]"
   ]
  },
  {
   "cell_type": "code",
   "execution_count": 10,
   "metadata": {
    "collapsed": false
   },
   "outputs": [
    {
     "data": {
      "text/plain": [
       "LogisticRegression(C=1.0, class_weight=None, dual=False, fit_intercept=True,\n",
       "          intercept_scaling=1, max_iter=100, multi_class='ovr', n_jobs=-1,\n",
       "          penalty='l2', random_state=None, solver='liblinear', tol=0.0001,\n",
       "          verbose=0, warm_start=False)"
      ]
     },
     "execution_count": 10,
     "metadata": {},
     "output_type": "execute_result"
    }
   ],
   "source": [
    "model = linear_model.LogisticRegression(n_jobs=-1)\n",
    "model.fit(train_data, train_output)"
   ]
  },
  {
   "cell_type": "code",
   "execution_count": 11,
   "metadata": {
    "collapsed": true
   },
   "outputs": [],
   "source": [
    "model_features = pd.DataFrame(np.zeros((len(features), 2)), columns=['features', 'coeff'])\n",
    "model_features['features'] = features\n",
    "model_features['coeff'] = model.coef_[0]"
   ]
  },
  {
   "cell_type": "code",
   "execution_count": 12,
   "metadata": {
    "collapsed": false
   },
   "outputs": [
    {
     "data": {
      "text/plain": [
       "0.96897593271747307"
      ]
     },
     "execution_count": 12,
     "metadata": {},
     "output_type": "execute_result"
    }
   ],
   "source": [
    "model.score(validation_data, validation_output)"
   ]
  },
  {
   "cell_type": "code",
   "execution_count": 13,
   "metadata": {
    "collapsed": true
   },
   "outputs": [],
   "source": [
    "from sklearn.feature_selection import SelectFromModel\n",
    "from sklearn.svm import LinearSVC"
   ]
  },
  {
   "cell_type": "code",
   "execution_count": 14,
   "metadata": {
    "collapsed": false
   },
   "outputs": [],
   "source": [
    "#train_data_new\n",
    "#for c in [0.001,0.005,0.01,0.05,0.1]:\n",
    "#    lsvc = LinearSVC(C=0.01, penalty=\"l1\", dual=False).fit(train_data, train_output)\n",
    "#    model1 = SelectFromModel(lsvc, prefit=True)\n",
    "#    train_data_new = model1.transform(train_data)\n",
    "#    lsvc_pred = lsvc.predict(validation_data)\n",
    "#    fpr, tpr, thresholds = metrics.roc_curve(validation_output, lsvc_pred)\n",
    "#    metrics.auc(fpr, tpr)"
   ]
  },
  {
   "cell_type": "code",
   "execution_count": 15,
   "metadata": {
    "collapsed": false
   },
   "outputs": [
    {
     "data": {
      "text/plain": [
       "0.5748186968176664"
      ]
     },
     "execution_count": 15,
     "metadata": {},
     "output_type": "execute_result"
    }
   ],
   "source": [
    "from sklearn import metrics\n",
    "#predictions = model.predict(validation_data)\n",
    "predictions = model.predict(validation_data)\n",
    "fpr, tpr, thresholds = metrics.roc_curve(validation_output, predictions)\n",
    "metrics.auc(fpr, tpr)"
   ]
  },
  {
   "cell_type": "code",
   "execution_count": 19,
   "metadata": {
    "collapsed": false
   },
   "outputs": [
    {
     "data": {
      "text/plain": [
       "0.5790315938834284"
      ]
     },
     "execution_count": 19,
     "metadata": {},
     "output_type": "execute_result"
    }
   ],
   "source": [
    "train_predictions = model.predict(train_data)\n",
    "fpr, tpr, thresholds = metrics.roc_curve(train_output, train_predictions)\n",
    "metrics.auc(fpr, tpr)"
   ]
  },
  {
   "cell_type": "code",
   "execution_count": 16,
   "metadata": {
    "collapsed": false
   },
   "outputs": [
    {
     "name": "stdout",
     "output_type": "stream",
     "text": [
      "0.613531522296\n",
      "0.152912621359\n",
      "0.244810307802\n"
     ]
    }
   ],
   "source": [
    "print(metrics.precision_score(validation_output, predictions))\n",
    "print(metrics.recall_score(validation_output, predictions))\n",
    "print(metrics.f1_score(validation_output, predictions))"
   ]
  },
  {
   "cell_type": "code",
   "execution_count": 17,
   "metadata": {
    "collapsed": false
   },
   "outputs": [
    {
     "name": "stdout",
     "output_type": "stream",
     "text": [
      "true_positive: 1197\n",
      "true_negative: 229459\n",
      "false_positive: 754\n",
      "false_negative: 6631\n"
     ]
    }
   ],
   "source": [
    "true_positive = 0\n",
    "true_negative = 0\n",
    "false_positive = 0\n",
    "false_negative = 0\n",
    "for y, y_hat in zip(validation_output, predictions):\n",
    "    if y == y_hat:\n",
    "        if y_hat == 1:\n",
    "            true_positive += 1\n",
    "        else:\n",
    "            true_negative += 1\n",
    "    else:\n",
    "        if y_hat == 1:\n",
    "            false_positive += 1\n",
    "        else:\n",
    "            false_negative += 1\n",
    "print('true_positive: %s' % true_positive)\n",
    "print('true_negative: %s' % true_negative)\n",
    "print('false_positive: %s' % false_positive)\n",
    "print('false_negative: %s' % false_negative)"
   ]
  },
  {
   "cell_type": "code",
   "execution_count": null,
   "metadata": {
    "collapsed": true
   },
   "outputs": [],
   "source": []
  },
  {
   "cell_type": "markdown",
   "metadata": {},
   "source": [
    "# Random Forest Classifier"
   ]
  },
  {
   "cell_type": "code",
   "execution_count": 21,
   "metadata": {
    "collapsed": false
   },
   "outputs": [],
   "source": [
    "from sklearn.ensemble import RandomForestClassifier"
   ]
  },
  {
   "cell_type": "code",
   "execution_count": 22,
   "metadata": {
    "collapsed": true
   },
   "outputs": [],
   "source": [
    "rfc = RandomForestClassifier(n_estimators=100)"
   ]
  },
  {
   "cell_type": "code",
   "execution_count": 23,
   "metadata": {
    "collapsed": false
   },
   "outputs": [
    {
     "data": {
      "text/plain": [
       "RandomForestClassifier(bootstrap=True, class_weight=None, criterion='gini',\n",
       "            max_depth=None, max_features='auto', max_leaf_nodes=None,\n",
       "            min_samples_leaf=1, min_samples_split=2,\n",
       "            min_weight_fraction_leaf=0.0, n_estimators=100, n_jobs=1,\n",
       "            oob_score=False, random_state=None, verbose=0,\n",
       "            warm_start=False)"
      ]
     },
     "execution_count": 23,
     "metadata": {},
     "output_type": "execute_result"
    }
   ],
   "source": [
    "rfc.fit(train_data, train_output)"
   ]
  },
  {
   "cell_type": "code",
   "execution_count": 24,
   "metadata": {
    "collapsed": false
   },
   "outputs": [
    {
     "data": {
      "text/plain": [
       "0.79536383160798185"
      ]
     },
     "execution_count": 24,
     "metadata": {},
     "output_type": "execute_result"
    }
   ],
   "source": [
    "predictions = rfc.predict(validation_data)\n",
    "fpr, tpr, thresholds = metrics.roc_curve(validation_output, predictions)\n",
    "metrics.auc(fpr, tpr)"
   ]
  },
  {
   "cell_type": "code",
   "execution_count": 26,
   "metadata": {
    "collapsed": false
   },
   "outputs": [
    {
     "data": {
      "text/plain": [
       "0.84310424978286735"
      ]
     },
     "execution_count": 26,
     "metadata": {},
     "output_type": "execute_result"
    }
   ],
   "source": [
    "predictions = rfc.predict(train_data)\n",
    "fpr, tpr, thresholds = metrics.roc_curve(train_output, predictions)\n",
    "metrics.auc(fpr, tpr)"
   ]
  },
  {
   "cell_type": "code",
   "execution_count": 25,
   "metadata": {
    "collapsed": false
   },
   "outputs": [
    {
     "name": "stdout",
     "output_type": "stream",
     "text": [
      "0.682769726248\n"
     ]
    }
   ],
   "source": [
    "print(metrics.f1_score(validation_output, predictions))"
   ]
  },
  {
   "cell_type": "code",
   "execution_count": null,
   "metadata": {
    "collapsed": true
   },
   "outputs": [],
   "source": []
  }
 ],
 "metadata": {
  "kernelspec": {
   "display_name": "Python 3",
   "language": "python",
   "name": "python3"
  },
  "language_info": {
   "codemirror_mode": {
    "name": "ipython",
    "version": 3
   },
   "file_extension": ".py",
   "mimetype": "text/x-python",
   "name": "python",
   "nbconvert_exporter": "python",
   "pygments_lexer": "ipython3",
   "version": "3.5.1"
  }
 },
 "nbformat": 4,
 "nbformat_minor": 0
}
