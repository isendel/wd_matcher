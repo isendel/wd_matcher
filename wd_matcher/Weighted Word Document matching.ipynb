{
 "cells": [
  {
   "cell_type": "code",
   "execution_count": 90,
   "metadata": {
    "collapsed": true
   },
   "outputs": [],
   "source": [
    "import pandas as pd\n",
    "import numpy as np\n",
    "import matplotlib.pyplot as plt\n",
    "from sklearn.cross_validation import train_test_split\n",
    "from sklearn import linear_model\n",
    "%matplotlib inline"
   ]
  },
  {
   "cell_type": "markdown",
   "metadata": {},
   "source": [
    "# Load dataset"
   ]
  },
  {
   "cell_type": "code",
   "execution_count": 76,
   "metadata": {
    "collapsed": false
   },
   "outputs": [
    {
     "data": {
      "text/html": [
       "<div>\n",
       "<table border=\"1\" class=\"dataframe\">\n",
       "  <thead>\n",
       "    <tr style=\"text-align: right;\">\n",
       "      <th></th>\n",
       "      <th>publisher.publisher_name</th>\n",
       "      <th>publisher.place_of_publication</th>\n",
       "      <th>publication_type</th>\n",
       "      <th>country_of_publication</th>\n",
       "      <th>language</th>\n",
       "      <th>contributor.name</th>\n",
       "      <th>contributor.role</th>\n",
       "      <th>title</th>\n",
       "      <th>idno</th>\n",
       "      <th>idno.type</th>\n",
       "      <th>subject</th>\n",
       "      <th>publishing_work_items.value</th>\n",
       "      <th>publishing_work_items.type</th>\n",
       "      <th>publishing_work_items.unit</th>\n",
       "      <th>label</th>\n",
       "    </tr>\n",
       "  </thead>\n",
       "  <tbody>\n",
       "    <tr>\n",
       "      <th>0</th>\n",
       "      <td>0.512195</td>\n",
       "      <td>0.590909</td>\n",
       "      <td>0.750</td>\n",
       "      <td>0.714286</td>\n",
       "      <td>0.727273</td>\n",
       "      <td>0.789474</td>\n",
       "      <td>0.789474</td>\n",
       "      <td>0.816327</td>\n",
       "      <td>0.894737</td>\n",
       "      <td>0.645161</td>\n",
       "      <td>0.600000</td>\n",
       "      <td>0.866667</td>\n",
       "      <td>0.862069</td>\n",
       "      <td>0.862069</td>\n",
       "      <td>0</td>\n",
       "    </tr>\n",
       "    <tr>\n",
       "      <th>1</th>\n",
       "      <td>0.000000</td>\n",
       "      <td>0.000000</td>\n",
       "      <td>0.125</td>\n",
       "      <td>0.000000</td>\n",
       "      <td>0.000000</td>\n",
       "      <td>0.812500</td>\n",
       "      <td>0.142857</td>\n",
       "      <td>0.000000</td>\n",
       "      <td>0.277778</td>\n",
       "      <td>0.375000</td>\n",
       "      <td>0.000000</td>\n",
       "      <td>0.000000</td>\n",
       "      <td>0.000000</td>\n",
       "      <td>0.000000</td>\n",
       "      <td>0</td>\n",
       "    </tr>\n",
       "    <tr>\n",
       "      <th>2</th>\n",
       "      <td>0.457447</td>\n",
       "      <td>0.418605</td>\n",
       "      <td>0.000</td>\n",
       "      <td>0.000000</td>\n",
       "      <td>0.333333</td>\n",
       "      <td>0.880000</td>\n",
       "      <td>0.142857</td>\n",
       "      <td>0.000000</td>\n",
       "      <td>0.352941</td>\n",
       "      <td>0.318182</td>\n",
       "      <td>0.922078</td>\n",
       "      <td>0.619048</td>\n",
       "      <td>0.000000</td>\n",
       "      <td>0.000000</td>\n",
       "      <td>0</td>\n",
       "    </tr>\n",
       "    <tr>\n",
       "      <th>3</th>\n",
       "      <td>0.404255</td>\n",
       "      <td>0.515152</td>\n",
       "      <td>0.000</td>\n",
       "      <td>0.250000</td>\n",
       "      <td>0.333333</td>\n",
       "      <td>0.391304</td>\n",
       "      <td>0.200000</td>\n",
       "      <td>0.090909</td>\n",
       "      <td>0.487179</td>\n",
       "      <td>0.444444</td>\n",
       "      <td>0.000000</td>\n",
       "      <td>0.428571</td>\n",
       "      <td>0.000000</td>\n",
       "      <td>0.000000</td>\n",
       "      <td>0</td>\n",
       "    </tr>\n",
       "    <tr>\n",
       "      <th>4</th>\n",
       "      <td>0.019608</td>\n",
       "      <td>0.666667</td>\n",
       "      <td>0.000</td>\n",
       "      <td>0.333333</td>\n",
       "      <td>0.000000</td>\n",
       "      <td>0.800000</td>\n",
       "      <td>0.142857</td>\n",
       "      <td>0.000000</td>\n",
       "      <td>0.261538</td>\n",
       "      <td>0.277778</td>\n",
       "      <td>0.000000</td>\n",
       "      <td>0.333333</td>\n",
       "      <td>0.142857</td>\n",
       "      <td>0.142857</td>\n",
       "      <td>0</td>\n",
       "    </tr>\n",
       "  </tbody>\n",
       "</table>\n",
       "</div>"
      ],
      "text/plain": [
       "   publisher.publisher_name  publisher.place_of_publication  publication_type  \\\n",
       "0                  0.512195                        0.590909             0.750   \n",
       "1                  0.000000                        0.000000             0.125   \n",
       "2                  0.457447                        0.418605             0.000   \n",
       "3                  0.404255                        0.515152             0.000   \n",
       "4                  0.019608                        0.666667             0.000   \n",
       "\n",
       "   country_of_publication  language  contributor.name  contributor.role  \\\n",
       "0                0.714286  0.727273          0.789474          0.789474   \n",
       "1                0.000000  0.000000          0.812500          0.142857   \n",
       "2                0.000000  0.333333          0.880000          0.142857   \n",
       "3                0.250000  0.333333          0.391304          0.200000   \n",
       "4                0.333333  0.000000          0.800000          0.142857   \n",
       "\n",
       "      title      idno  idno.type   subject  publishing_work_items.value  \\\n",
       "0  0.816327  0.894737   0.645161  0.600000                     0.866667   \n",
       "1  0.000000  0.277778   0.375000  0.000000                     0.000000   \n",
       "2  0.000000  0.352941   0.318182  0.922078                     0.619048   \n",
       "3  0.090909  0.487179   0.444444  0.000000                     0.428571   \n",
       "4  0.000000  0.261538   0.277778  0.000000                     0.333333   \n",
       "\n",
       "   publishing_work_items.type  publishing_work_items.unit  label  \n",
       "0                    0.862069                    0.862069      0  \n",
       "1                    0.000000                    0.000000      0  \n",
       "2                    0.000000                    0.000000      0  \n",
       "3                    0.000000                    0.000000      0  \n",
       "4                    0.142857                    0.142857      0  "
      ]
     },
     "execution_count": 76,
     "metadata": {},
     "output_type": "execute_result"
    }
   ],
   "source": [
    "dataset = pd.read_csv('dataset/dev1_works_distance_dataset.csv')\n",
    "y = dataset['label'].values\n",
    "features = dataset.columns.difference(['label'])\n",
    "X = dataset[features].values\n",
    "dataset.head()"
   ]
  },
  {
   "cell_type": "markdown",
   "metadata": {},
   "source": [
    "## Split dataset by label (match|not_match) for visualisation"
   ]
  },
  {
   "cell_type": "code",
   "execution_count": 77,
   "metadata": {
    "collapsed": false
   },
   "outputs": [],
   "source": [
    "dataset_matched = dataset[dataset['label']==1]\n",
    "dataset_not_matched = dataset[dataset['label']==0]"
   ]
  },
  {
   "cell_type": "code",
   "execution_count": 78,
   "metadata": {
    "collapsed": false
   },
   "outputs": [
    {
     "name": "stdout",
     "output_type": "stream",
     "text": [
      "1.61690406007\n",
      "2.59288067289\n"
     ]
    }
   ],
   "source": [
    "print(sum(dataset_matched[features].mean()))\n",
    "print(sum(dataset_not_matched[features].mean()))"
   ]
  },
  {
   "cell_type": "code",
   "execution_count": 79,
   "metadata": {
    "collapsed": false
   },
   "outputs": [],
   "source": [
    "def broken_plot(dataset, column, axis0_limits, axis1_limits, num_bins):\n",
    "    f, axis = plt.subplots(2, 1, sharex=True)\n",
    "    axis[0].hist(dataset[[column]].values, num_bins, alpha=0.5)\n",
    "    axis[1].hist(dataset[[column]].values, num_bins, alpha=0.5)\n",
    "    axis[0].set_ylim(axis0_limits[0], axis0_limits[1])\n",
    "    axis[1].set_ylim(axis1_limits[0], axis1_limits[1])\n",
    "\n",
    "    axis[0].spines['bottom'].set_visible(False)\n",
    "    axis[1].spines['top'].set_visible(False)\n",
    "    axis[0].xaxis.tick_top()\n",
    "    axis[0].tick_params(labeltop='off')\n",
    "    axis[1].xaxis.tick_bottom()\n",
    "    d = .015\n",
    "    kwargs = dict(transform=axis[0].transAxes, color='k', clip_on=False)\n",
    "    axis[0].plot((-d,+d),(-d,+d), **kwargs)\n",
    "    axis[0].plot((1-d,1+d),(-d,+d), **kwargs)\n",
    "    kwargs.update(transform=axis[1].transAxes)\n",
    "    axis[1].plot((-d,+d),(1-d,1+d), **kwargs)\n",
    "    axis[1].plot((1-d,1+d),(1-d,1+d), **kwargs)"
   ]
  },
  {
   "cell_type": "code",
   "execution_count": 80,
   "metadata": {
    "collapsed": false
   },
   "outputs": [
    {
     "data": {
      "image/png": "[encoded data removed]",
      "text/plain": [
       "<matplotlib.figure.Figure at 0x8dceac2ef0>"
      ]
     },
     "metadata": {},
     "output_type": "display_data"
    }
   ],
   "source": [
    "broken_plot(dataset, 'title', (20, 41000), (0, 500), 20)"
   ]
  },
  {
   "cell_type": "code",
   "execution_count": 81,
   "metadata": {
    "collapsed": false
   },
   "outputs": [
    {
     "data": {
      "image/png": "[encoded data removed]",
      "text/plain": [
       "<matplotlib.figure.Figure at 0x8dceac2dd8>"
      ]
     },
     "metadata": {},
     "output_type": "display_data"
    }
   ],
   "source": [
    "broken_plot(dataset_matched, 'title', (20, 1500), (0, 30), 20)"
   ]
  },
  {
   "cell_type": "code",
   "execution_count": 82,
   "metadata": {
    "collapsed": false
   },
   "outputs": [
    {
     "data": {
      "image/png": "[encoded data removed]",
      "text/plain": [
       "<matplotlib.figure.Figure at 0x8dd756d5f8>"
      ]
     },
     "metadata": {},
     "output_type": "display_data"
    }
   ],
   "source": [
    "broken_plot(dataset_not_matched, 'title', (20, 1500), (0, 30), 20)"
   ]
  },
  {
   "cell_type": "code",
   "execution_count": 83,
   "metadata": {
    "collapsed": false
   },
   "outputs": [
    {
     "data": {
      "image/png": "[encoded data removed]",
      "text/plain": [
       "<matplotlib.figure.Figure at 0x8dcebb2c50>"
      ]
     },
     "metadata": {},
     "output_type": "display_data"
    }
   ],
   "source": [
    "broken_plot(dataset_matched, 'idno', (20, 250), (0, 10), 20)"
   ]
  },
  {
   "cell_type": "code",
   "execution_count": 84,
   "metadata": {
    "collapsed": false
   },
   "outputs": [
    {
     "data": {
      "image/png": "[encoded data removed]",
      "text/plain": [
       "<matplotlib.figure.Figure at 0x8dceee0b00>"
      ]
     },
     "metadata": {},
     "output_type": "display_data"
    }
   ],
   "source": [
    "broken_plot(dataset_not_matched, 'idno', (20, 10000), (0, 10), 20)"
   ]
  },
  {
   "cell_type": "code",
   "execution_count": 85,
   "metadata": {
    "collapsed": false
   },
   "outputs": [
    {
     "data": {
      "image/png": "[encoded data removed]",
      "text/plain": [
       "<matplotlib.figure.Figure at 0x8dd707add8>"
      ]
     },
     "metadata": {},
     "output_type": "display_data"
    }
   ],
   "source": [
    "broken_plot(dataset_matched, 'subject', (100, 2000), (0, 60), 20)"
   ]
  },
  {
   "cell_type": "code",
   "execution_count": 86,
   "metadata": {
    "collapsed": false
   },
   "outputs": [
    {
     "data": {
      "image/png": "[encoded data removed]",
      "text/plain": [
       "<matplotlib.figure.Figure at 0x8dd7a5f748>"
      ]
     },
     "metadata": {},
     "output_type": "display_data"
    }
   ],
   "source": [
    "broken_plot(dataset_not_matched, 'subject', (20, 30000), (0, 20), 20)"
   ]
  },
  {
   "cell_type": "markdown",
   "metadata": {},
   "source": [
    "# Applying classification"
   ]
  },
  {
   "cell_type": "markdown",
   "metadata": {},
   "source": [
    "## Splitting dataset to train and test"
   ]
  },
  {
   "cell_type": "code",
   "execution_count": 87,
   "metadata": {
    "collapsed": false
   },
   "outputs": [],
   "source": [
    "train_data, test_data, train_output, test_output = train_test_split(X, y, test_size=0.2, random_state=42)"
   ]
  },
  {
   "cell_type": "code",
   "execution_count": 132,
   "metadata": {
    "collapsed": false
   },
   "outputs": [
    {
     "data": {
      "text/plain": [
       "LogisticRegression(C=1.0, class_weight=None, dual=False, fit_intercept=True,\n",
       "          intercept_scaling=1, max_iter=100, multi_class='ovr', n_jobs=1,\n",
       "          penalty='l2', random_state=None, solver='liblinear', tol=0.0001,\n",
       "          verbose=0, warm_start=False)"
      ]
     },
     "execution_count": 132,
     "metadata": {},
     "output_type": "execute_result"
    }
   ],
   "source": [
    "model = linear_model.LogisticRegression()\n",
    "model.fit(train_data, train_output)"
   ]
  },
  {
   "cell_type": "code",
   "execution_count": 133,
   "metadata": {
    "collapsed": false
   },
   "outputs": [],
   "source": [
    "model_features = pd.DataFrame(np.zeros((len(features), 2)), columns=['features', 'coeff'])\n",
    "model_features['features'] = features\n",
    "model_features['coeff'] = model.coef_[0]"
   ]
  },
  {
   "cell_type": "code",
   "execution_count": 134,
   "metadata": {
    "collapsed": false
   },
   "outputs": [
    {
     "data": {
      "text/html": [
       "<div>\n",
       "<table border=\"1\" class=\"dataframe\">\n",
       "  <thead>\n",
       "    <tr style=\"text-align: right;\">\n",
       "      <th></th>\n",
       "      <th>features</th>\n",
       "      <th>coeff</th>\n",
       "    </tr>\n",
       "  </thead>\n",
       "  <tbody>\n",
       "    <tr>\n",
       "      <th>0</th>\n",
       "      <td>contributor.name</td>\n",
       "      <td>0.408929</td>\n",
       "    </tr>\n",
       "    <tr>\n",
       "      <th>1</th>\n",
       "      <td>contributor.role</td>\n",
       "      <td>-1.176405</td>\n",
       "    </tr>\n",
       "    <tr>\n",
       "      <th>2</th>\n",
       "      <td>country_of_publication</td>\n",
       "      <td>-3.231175</td>\n",
       "    </tr>\n",
       "    <tr>\n",
       "      <th>3</th>\n",
       "      <td>idno</td>\n",
       "      <td>4.980807</td>\n",
       "    </tr>\n",
       "    <tr>\n",
       "      <th>4</th>\n",
       "      <td>idno.type</td>\n",
       "      <td>-4.416695</td>\n",
       "    </tr>\n",
       "    <tr>\n",
       "      <th>5</th>\n",
       "      <td>language</td>\n",
       "      <td>3.204957</td>\n",
       "    </tr>\n",
       "    <tr>\n",
       "      <th>6</th>\n",
       "      <td>publication_type</td>\n",
       "      <td>-7.013411</td>\n",
       "    </tr>\n",
       "    <tr>\n",
       "      <th>7</th>\n",
       "      <td>publisher.place_of_publication</td>\n",
       "      <td>-1.296463</td>\n",
       "    </tr>\n",
       "    <tr>\n",
       "      <th>8</th>\n",
       "      <td>publisher.publisher_name</td>\n",
       "      <td>0.310198</td>\n",
       "    </tr>\n",
       "    <tr>\n",
       "      <th>9</th>\n",
       "      <td>publishing_work_items.type</td>\n",
       "      <td>-2.725465</td>\n",
       "    </tr>\n",
       "    <tr>\n",
       "      <th>10</th>\n",
       "      <td>publishing_work_items.unit</td>\n",
       "      <td>-2.620257</td>\n",
       "    </tr>\n",
       "    <tr>\n",
       "      <th>11</th>\n",
       "      <td>publishing_work_items.value</td>\n",
       "      <td>-3.645273</td>\n",
       "    </tr>\n",
       "    <tr>\n",
       "      <th>12</th>\n",
       "      <td>subject</td>\n",
       "      <td>0.345326</td>\n",
       "    </tr>\n",
       "    <tr>\n",
       "      <th>13</th>\n",
       "      <td>title</td>\n",
       "      <td>2.501461</td>\n",
       "    </tr>\n",
       "  </tbody>\n",
       "</table>\n",
       "</div>"
      ],
      "text/plain": [
       "                          features     coeff\n",
       "0                 contributor.name  0.408929\n",
       "1                 contributor.role -1.176405\n",
       "2           country_of_publication -3.231175\n",
       "3                             idno  4.980807\n",
       "4                        idno.type -4.416695\n",
       "5                         language  3.204957\n",
       "6                 publication_type -7.013411\n",
       "7   publisher.place_of_publication -1.296463\n",
       "8         publisher.publisher_name  0.310198\n",
       "9       publishing_work_items.type -2.725465\n",
       "10      publishing_work_items.unit -2.620257\n",
       "11     publishing_work_items.value -3.645273\n",
       "12                         subject  0.345326\n",
       "13                           title  2.501461"
      ]
     },
     "execution_count": 134,
     "metadata": {},
     "output_type": "execute_result"
    }
   ],
   "source": [
    "model_features"
   ]
  },
  {
   "cell_type": "code",
   "execution_count": 135,
   "metadata": {
    "collapsed": false
   },
   "outputs": [
    {
     "data": {
      "text/plain": [
       "0.95694146490959242"
      ]
     },
     "execution_count": 135,
     "metadata": {},
     "output_type": "execute_result"
    }
   ],
   "source": [
    "model.score(test_data, test_output)"
   ]
  },
  {
   "cell_type": "code",
   "execution_count": 136,
   "metadata": {
    "collapsed": false
   },
   "outputs": [
    {
     "name": "stderr",
     "output_type": "stream",
     "text": [
      "C:\\Users\\Viktor_Pishchulin\\AppData\\Local\\Continuum\\Anaconda3\\lib\\site-packages\\sklearn\\metrics\\ranking.py:534: UndefinedMetricWarning: No positive samples in y_true, true positive value should be meaningless\n",
      "  UndefinedMetricWarning)\n"
     ]
    },
    {
     "data": {
      "text/plain": [
       "nan"
      ]
     },
     "execution_count": 136,
     "metadata": {},
     "output_type": "execute_result"
    }
   ],
   "source": [
    "from sklearn import metrics\n",
    "predictions = model.predict(test_data)\n",
    "fpr, tpr, thresholds = metrics.roc_curve(test_output, predictions, pos_label=2)\n",
    "metrics.auc(fpr, tpr)"
   ]
  },
  {
   "cell_type": "code",
   "execution_count": 139,
   "metadata": {
    "collapsed": false
   },
   "outputs": [
    {
     "data": {
      "text/plain": [
       "0.66666666666666663"
      ]
     },
     "execution_count": 139,
     "metadata": {},
     "output_type": "execute_result"
    }
   ],
   "source": [
    "metrics.precision_score(test_output, predictions)"
   ]
  },
  {
   "cell_type": "code",
   "execution_count": 142,
   "metadata": {
    "collapsed": false
   },
   "outputs": [
    {
     "name": "stdout",
     "output_type": "stream",
     "text": [
      "true_positive: 10\n",
      "true_negative: 6235\n",
      "false_positive: 5\n",
      "false_negative: 276\n"
     ]
    }
   ],
   "source": [
    "true_positive = 0\n",
    "true_negative = 0\n",
    "false_positive = 0\n",
    "false_negative = 0\n",
    "for y, y_hat in zip(test_output, predictions):\n",
    "    if y == y_hat:\n",
    "        if y_hat == 1:\n",
    "            true_positive += 1\n",
    "        else:\n",
    "            true_negative += 1\n",
    "    else:\n",
    "        if y_hat == 1:\n",
    "            false_positive += 1\n",
    "        else:\n",
    "            false_negative += 1\n",
    "print('true_positive: %s' % true_positive)\n",
    "print('true_negative: %s' % true_negative)\n",
    "print('false_positive: %s' % false_positive)\n",
    "print('false_negative: %s' % false_negative)"
   ]
  },
  {
   "cell_type": "code",
   "execution_count": null,
   "metadata": {
    "collapsed": true
   },
   "outputs": [],
   "source": []
  }
 ],
 "metadata": {
  "kernelspec": {
   "display_name": "Python 3",
   "language": "python",
   "name": "python3"
  },
  "language_info": {
   "codemirror_mode": {
    "name": "ipython",
    "version": 3
   },
   "file_extension": ".py",
   "mimetype": "text/x-python",
   "name": "python",
   "nbconvert_exporter": "python",
   "pygments_lexer": "ipython3",
   "version": "3.5.1"
  }
 },
 "nbformat": 4,
 "nbformat_minor": 0
}
